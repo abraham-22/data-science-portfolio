{
 "cells": [
  {
   "cell_type": "markdown",
   "metadata": {},
   "source": [
    "## Bike-Sharing Statistical Analysis\n",
    "\n",
    "\n",
    "**Project Overview**\n",
    "\n",
    "**Purpose:**\n",
    "The purpose of this statistical analysis is to assist in developing a proposal for a new bike-sharing program. To achieve this goal, an analysis was conducted on the NYC CitiBike business data for the month of August to establish baseline information. This baseline data will provide insights into the operational aspects and user behavior of a successful bike-sharing program, which can be used to inform the development of the new program..\n",
    "\n",
    "**Resources:**\n",
    "- **Data Source:** Citi Bike Data, 201908-citibike-tripdata.csv.zip\n",
    "- **Software:**\n",
    "  - Python 3.11.1\n",
    "  - Anaconda Navigator 2022.10\n",
    "  - Jupyter Notebook 6.5.2\n",
    "  - Tableau Public 2022.1"
   ]
  },
  {
   "cell_type": "code",
   "execution_count": 2,
   "metadata": {},
   "outputs": [],
   "source": [
    "import pandas as pd\n",
    "import os\n",
    "import datetime"
   ]
  },
  {
   "cell_type": "code",
   "execution_count": 3,
   "metadata": {},
   "outputs": [],
   "source": [
    "# 1. Create a DataFrame for the 201908-citibike-tripdata data. \n",
    "citibike_data = os.path.join('201908-citibike-tripdata.csv')\n",
    "citibike_df = pd.read_csv(citibike_data)"
   ]
  },
  {
   "cell_type": "code",
   "execution_count": 4,
   "metadata": {
    "scrolled": true
   },
   "outputs": [
    {
     "data": {
      "text/plain": [
       "tripduration                 int64\n",
       "starttime                   object\n",
       "stoptime                    object\n",
       "start station id           float64\n",
       "start station name          object\n",
       "start station latitude     float64\n",
       "start station longitude    float64\n",
       "end station id             float64\n",
       "end station name            object\n",
       "end station latitude       float64\n",
       "end station longitude      float64\n",
       "bikeid                       int64\n",
       "usertype                    object\n",
       "birth year                   int64\n",
       "gender                       int64\n",
       "dtype: object"
      ]
     },
     "execution_count": 4,
     "metadata": {},
     "output_type": "execute_result"
    }
   ],
   "source": [
    "# 2. Check the datatypes of your columns. \n",
    "citibike_df.dtypes"
   ]
  },
  {
   "cell_type": "code",
   "execution_count": 5,
   "metadata": {},
   "outputs": [
    {
     "name": "stdout",
     "output_type": "stream",
     "text": [
      "0           393\n",
      "1           627\n",
      "2          1132\n",
      "3          1780\n",
      "4          1517\n",
      "           ... \n",
      "2344219     216\n",
      "2344220     117\n",
      "2344221    1614\n",
      "2344222    1301\n",
      "2344223     419\n",
      "Name: tripduration, Length: 2344224, dtype: int64\n"
     ]
    }
   ],
   "source": [
    "tripduration = citibike_df[\"tripduration\"]\n",
    "print(tripduration)"
   ]
  },
  {
   "cell_type": "code",
   "execution_count": 6,
   "metadata": {},
   "outputs": [],
   "source": [
    "# 3. Convert the 'tripduration' column to datetime datatype.\n",
    "from datetime import datetime\n",
    "\n",
    "citibike_df[\"tripduration\"] = pd.to_datetime(citibike_df[\"tripduration\"], unit='s')"
   ]
  },
  {
   "cell_type": "code",
   "execution_count": 7,
   "metadata": {},
   "outputs": [
    {
     "data": {
      "text/plain": [
       "tripduration               datetime64[ns]\n",
       "starttime                          object\n",
       "stoptime                           object\n",
       "start station id                  float64\n",
       "start station name                 object\n",
       "start station latitude            float64\n",
       "start station longitude           float64\n",
       "end station id                    float64\n",
       "end station name                   object\n",
       "end station latitude              float64\n",
       "end station longitude             float64\n",
       "bikeid                              int64\n",
       "usertype                           object\n",
       "birth year                          int64\n",
       "gender                              int64\n",
       "dtype: object"
      ]
     },
     "execution_count": 7,
     "metadata": {},
     "output_type": "execute_result"
    }
   ],
   "source": [
    "# 4. Check the datatypes of your columns. \n",
    "citibike_df.dtypes"
   ]
  },
  {
   "cell_type": "code",
   "execution_count": 8,
   "metadata": {},
   "outputs": [
    {
     "data": {
      "text/html": [
       "<div>\n",
       "<style scoped>\n",
       "    .dataframe tbody tr th:only-of-type {\n",
       "        vertical-align: middle;\n",
       "    }\n",
       "\n",
       "    .dataframe tbody tr th {\n",
       "        vertical-align: top;\n",
       "    }\n",
       "\n",
       "    .dataframe thead th {\n",
       "        text-align: right;\n",
       "    }\n",
       "</style>\n",
       "<table border=\"1\" class=\"dataframe\">\n",
       "  <thead>\n",
       "    <tr style=\"text-align: right;\">\n",
       "      <th></th>\n",
       "      <th>tripduration</th>\n",
       "      <th>starttime</th>\n",
       "      <th>stoptime</th>\n",
       "      <th>start station id</th>\n",
       "      <th>start station name</th>\n",
       "      <th>start station latitude</th>\n",
       "      <th>start station longitude</th>\n",
       "      <th>end station id</th>\n",
       "      <th>end station name</th>\n",
       "      <th>end station latitude</th>\n",
       "      <th>end station longitude</th>\n",
       "      <th>bikeid</th>\n",
       "      <th>usertype</th>\n",
       "      <th>birth year</th>\n",
       "      <th>gender</th>\n",
       "    </tr>\n",
       "  </thead>\n",
       "  <tbody>\n",
       "    <tr>\n",
       "      <th>0</th>\n",
       "      <td>1970-01-01 00:06:33</td>\n",
       "      <td>2019-08-01 00:00:01.4680</td>\n",
       "      <td>2019-08-01 00:06:35.3780</td>\n",
       "      <td>531.0</td>\n",
       "      <td>Forsyth St &amp; Broome St</td>\n",
       "      <td>40.718939</td>\n",
       "      <td>-73.992663</td>\n",
       "      <td>408.0</td>\n",
       "      <td>Market St &amp; Cherry St</td>\n",
       "      <td>40.710762</td>\n",
       "      <td>-73.994004</td>\n",
       "      <td>35305</td>\n",
       "      <td>Subscriber</td>\n",
       "      <td>1996</td>\n",
       "      <td>2</td>\n",
       "    </tr>\n",
       "    <tr>\n",
       "      <th>1</th>\n",
       "      <td>1970-01-01 00:10:27</td>\n",
       "      <td>2019-08-01 00:00:01.9290</td>\n",
       "      <td>2019-08-01 00:10:29.7840</td>\n",
       "      <td>274.0</td>\n",
       "      <td>Lafayette Ave &amp; Fort Greene Pl</td>\n",
       "      <td>40.686919</td>\n",
       "      <td>-73.976682</td>\n",
       "      <td>3409.0</td>\n",
       "      <td>Bergen St &amp; Smith St</td>\n",
       "      <td>40.686744</td>\n",
       "      <td>-73.990632</td>\n",
       "      <td>38822</td>\n",
       "      <td>Subscriber</td>\n",
       "      <td>1998</td>\n",
       "      <td>2</td>\n",
       "    </tr>\n",
       "    <tr>\n",
       "      <th>2</th>\n",
       "      <td>1970-01-01 00:18:52</td>\n",
       "      <td>2019-08-01 00:00:04.0480</td>\n",
       "      <td>2019-08-01 00:18:56.1650</td>\n",
       "      <td>2000.0</td>\n",
       "      <td>Front St &amp; Washington St</td>\n",
       "      <td>40.702551</td>\n",
       "      <td>-73.989402</td>\n",
       "      <td>3388.0</td>\n",
       "      <td>President St &amp; Henry St</td>\n",
       "      <td>40.682800</td>\n",
       "      <td>-73.999904</td>\n",
       "      <td>18373</td>\n",
       "      <td>Subscriber</td>\n",
       "      <td>1988</td>\n",
       "      <td>1</td>\n",
       "    </tr>\n",
       "    <tr>\n",
       "      <th>3</th>\n",
       "      <td>1970-01-01 00:29:40</td>\n",
       "      <td>2019-08-01 00:00:04.1630</td>\n",
       "      <td>2019-08-01 00:29:44.7940</td>\n",
       "      <td>479.0</td>\n",
       "      <td>9 Ave &amp; W 45 St</td>\n",
       "      <td>40.760193</td>\n",
       "      <td>-73.991255</td>\n",
       "      <td>473.0</td>\n",
       "      <td>Rivington St &amp; Chrystie St</td>\n",
       "      <td>40.721101</td>\n",
       "      <td>-73.991925</td>\n",
       "      <td>25002</td>\n",
       "      <td>Subscriber</td>\n",
       "      <td>1988</td>\n",
       "      <td>1</td>\n",
       "    </tr>\n",
       "    <tr>\n",
       "      <th>4</th>\n",
       "      <td>1970-01-01 00:25:17</td>\n",
       "      <td>2019-08-01 00:00:05.4580</td>\n",
       "      <td>2019-08-01 00:25:23.4550</td>\n",
       "      <td>3312.0</td>\n",
       "      <td>1 Ave &amp; E 94 St</td>\n",
       "      <td>40.781721</td>\n",
       "      <td>-73.945940</td>\n",
       "      <td>3312.0</td>\n",
       "      <td>1 Ave &amp; E 94 St</td>\n",
       "      <td>40.781721</td>\n",
       "      <td>-73.945940</td>\n",
       "      <td>31198</td>\n",
       "      <td>Subscriber</td>\n",
       "      <td>1965</td>\n",
       "      <td>2</td>\n",
       "    </tr>\n",
       "  </tbody>\n",
       "</table>\n",
       "</div>"
      ],
      "text/plain": [
       "         tripduration                 starttime                  stoptime  \\\n",
       "0 1970-01-01 00:06:33  2019-08-01 00:00:01.4680  2019-08-01 00:06:35.3780   \n",
       "1 1970-01-01 00:10:27  2019-08-01 00:00:01.9290  2019-08-01 00:10:29.7840   \n",
       "2 1970-01-01 00:18:52  2019-08-01 00:00:04.0480  2019-08-01 00:18:56.1650   \n",
       "3 1970-01-01 00:29:40  2019-08-01 00:00:04.1630  2019-08-01 00:29:44.7940   \n",
       "4 1970-01-01 00:25:17  2019-08-01 00:00:05.4580  2019-08-01 00:25:23.4550   \n",
       "\n",
       "   start station id              start station name  start station latitude  \\\n",
       "0             531.0          Forsyth St & Broome St               40.718939   \n",
       "1             274.0  Lafayette Ave & Fort Greene Pl               40.686919   \n",
       "2            2000.0        Front St & Washington St               40.702551   \n",
       "3             479.0                 9 Ave & W 45 St               40.760193   \n",
       "4            3312.0                 1 Ave & E 94 St               40.781721   \n",
       "\n",
       "   start station longitude  end station id            end station name  \\\n",
       "0               -73.992663           408.0       Market St & Cherry St   \n",
       "1               -73.976682          3409.0        Bergen St & Smith St   \n",
       "2               -73.989402          3388.0     President St & Henry St   \n",
       "3               -73.991255           473.0  Rivington St & Chrystie St   \n",
       "4               -73.945940          3312.0             1 Ave & E 94 St   \n",
       "\n",
       "   end station latitude  end station longitude  bikeid    usertype  \\\n",
       "0             40.710762             -73.994004   35305  Subscriber   \n",
       "1             40.686744             -73.990632   38822  Subscriber   \n",
       "2             40.682800             -73.999904   18373  Subscriber   \n",
       "3             40.721101             -73.991925   25002  Subscriber   \n",
       "4             40.781721             -73.945940   31198  Subscriber   \n",
       "\n",
       "   birth year  gender  \n",
       "0        1996       2  \n",
       "1        1998       2  \n",
       "2        1988       1  \n",
       "3        1988       1  \n",
       "4        1965       2  "
      ]
     },
     "execution_count": 8,
     "metadata": {},
     "output_type": "execute_result"
    }
   ],
   "source": [
    "citibike_df.head(5)"
   ]
  },
  {
   "cell_type": "code",
   "execution_count": null,
   "metadata": {},
   "outputs": [],
   "source": [
    "# 5. Export the Dataframe as a new CSV file without the index.\n",
    "citibike_df.to_csv('201908-citibike-tripdataNEW.csv', index=False, header=True)\n",
    "\n",
    "print(citibike_df)"
   ]
  },
  {
   "cell_type": "markdown",
   "metadata": {},
   "source": [
    "**Results Summary:**\n",
    "\n",
    "1. **Total Number of Trips:**\n",
    "   - In August, the total number of trips was 2,344,224.\n",
    "   - **Customer Breakdown:** \n",
    "     - Short-term riders: 157,671\n",
    "     - Annual subscribers: 1,900,359\n",
    "   - **Insight:** The majority (81%) of NYC CitiBike customers are annual subscribers, indicating a strong income foundation by attracting long-term customers.\n",
    "\n",
    "2. **Gender Breakdown:**\n",
    "   - **Male:** 65.2%\n",
    "   - **Female:** 25%\n",
    "   - **Chart:** !Gender Breakdown\n",
    "\n",
    "3. **Trip Duration by Birth Year:**\n",
    "   - **Insight:** Younger riders tend to use the bikes for longer periods compared to other age groups.\n",
    "   - **Graph:** !Average Trip Duration by Birth Year\n",
    "\n",
    "4. **Peak Usage Hours:**\n",
    "   - **Peak Hours:** 5:00 PM to 7:00 PM\n",
    "   - **Least Active Hours:** 2:00 AM to 5:00 AM\n",
    "   - **Insight:** Peak hours require the most bikes, while least active hours are ideal for bike maintenance.\n",
    "   - **Chart:** !Peak Usage Hours\n",
    "\n",
    "5. **High-Traffic Locations:**\n",
    "   - **Insight:** NYC CitiBike customers prefer starting and ending their bike rental journeys in commercial and high-tourist areas of Manhattan.\n",
    "   - **Maps:** ![High-Traffic Locations](image) !High-Traffic Locations\n",
    "\n",
    "6. **Weekly Usage Patterns:**\n",
    "   - **Weekday Commute Times:** Heavy usage around 7:00 AM to 9:00 AM and 5:00 PM to 7:00 PM\n",
    "   - **Weekend Usage:** Highest from 10:00 AM to 7:00 PM\n",
    "   - **Insight:** Most rides are taken by male users.\n",
    "   - **Heatmap:** !Weekly Usage Patterns\n",
    "\n",
    "7. **Trip Duration Distribution:**\n",
    "   - **Insight:** The majority of trips are under an hour in length, with male customers taking significantly more rides.\n",
    "   - **Graph:** !Trip Duration Distribution\n",
    "\n",
    "**Summary:**\n",
    "\n",
    "The bike-share data analysis shows that bike-share services are popular in high-traffic areas of New York, especially during August 2019 due to favorable weather and a higher number of tourists. Most rides were concentrated in tourist and commercial areas of Manhattan. The majority of customers are male, and they rent bikes during morning and evening rush hours, indicating that CitiBike services are used as an alternative to public transportation by commuting workers.\n",
    "\n",
    "**Recommendations:**\n",
    "\n",
    "Due to the seasonality of this business, it is recommended to conduct additional statistical analysis and visualization to compare data across different months to determine yearly trends. Additionally, a weather impact analysis should be performed to check the correlation between weather conditions and bike usage."
   ]
  }
 ],
 "metadata": {
  "kernelspec": {
   "display_name": "Python 3 (ipykernel)",
   "language": "python",
   "name": "python3"
  },
  "language_info": {
   "codemirror_mode": {
    "name": "ipython",
    "version": 3
   },
   "file_extension": ".py",
   "mimetype": "text/x-python",
   "name": "python",
   "nbconvert_exporter": "python",
   "pygments_lexer": "ipython3",
   "version": "3.7.15"
  }
 },
 "nbformat": 4,
 "nbformat_minor": 4
}
