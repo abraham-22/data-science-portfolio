{
 "cells": [
  {
   "cell_type": "markdown",
   "metadata": {},
   "source": [
    "## Amazon Vine Review Analysis\n",
    "\n",
    "\n",
    "**Project Overview**\n",
    "\n",
    "**Objective:**\n",
    "The main objective of this project is to analyze Amazon reviews written by members of the paid Amazon Vine program. The Amazon Vine program is a service that allows manufacturers and publishers to receive reviews for their products. This analysis aims to determine if there is any bias toward favorable reviews from Vine members.\n",
    "\n",
    "**Methodology:**\n",
    "\n",
    "1. **Data Collection:**\n",
    "   - We utilized the power of big data to gather a comprehensive dataset of Amazon reviews.\n",
    "   - The dataset was extracted using PySpark, a powerful tool for handling large-scale data processing.\n",
    "\n",
    "2. **ETL Process:**\n",
    "   - **Extract:** The dataset was extracted from Amazon's review database.\n",
    "   - **Transform:** Data transformation was performed using PySpark to clean, filter, and prepare the data for analysis. This included handling missing values, normalizing text data, and categorizing reviews.\n",
    "   - **Load:** The transformed data was then loaded into an AWS RDS (Relational Database Service) instance for secure and scalable storage. From there, it was further loaded into pgAdmin for detailed analysis.\n",
    "\n",
    "3. **Data Analysis:**\n",
    "   - We employed a combination of PySpark, Pandas, and SQL to conduct an in-depth analysis of the reviews.\n",
    "   - Key metrics such as review ratings, review length, and the frequency of positive and negative words were analyzed.\n",
    "   - Statistical tests and visualizations were used to identify patterns and trends in the data.\n",
    "\n",
    "4. **Bias Detection:**\n",
    "   - To determine if there is any bias toward favorable reviews from Vine members, we compared the distribution of review ratings between Vine and non-Vine members.\n",
    "   - Sentiment analysis was performed to assess the overall sentiment of the reviews.\n",
    "   - We also examined the correlation between review ratings and the presence of certain keywords or phrases.\n",
    "\n",
    "**Results:**\n",
    "The analysis provided insights into the nature of reviews written by Vine members compared to non-Vine members. Key findings included differences in average ratings, review length, and sentiment. These results helped to identify any potential bias in the reviews provided by Vine members.\n",
    "\n",
    "**Conclusion:**\n",
    "This project demonstrated the effectiveness of using big data tools like PySpark and Pandas for large-scale data analysis. By leveraging AWS RDS and pgAdmin, we ensured efficient data storage and management. The findings from this analysis can be used to improve the transparency and reliability of the Amazon Vine program."
   ]
  },
  {
   "cell_type": "code",
   "execution_count": 25,
   "metadata": {
    "colab": {
     "base_uri": "https://localhost:8080/"
    },
    "id": "LOwDN4zV0tEw",
    "outputId": "5d003331-bc0c-4aaa-d24a-8def1fb65d7c"
   },
   "outputs": [
    {
     "name": "stdout",
     "output_type": "stream",
     "text": [
      "\r",
      "0% [Working]\r",
      "            \r",
      "Hit:1 https://cloud.r-project.org/bin/linux/ubuntu focal-cran40/ InRelease\n",
      "\r",
      "0% [Waiting for headers] [Connecting to security.ubuntu.com (185.125.190.39)] [\r",
      "                                                                               \r",
      "Hit:2 http://archive.ubuntu.com/ubuntu focal InRelease\n",
      "\r",
      "0% [Waiting for headers] [Connecting to security.ubuntu.com (185.125.190.39)] [\r",
      "                                                                               \r",
      "Get:3 http://archive.ubuntu.com/ubuntu focal-updates InRelease [114 kB]\n",
      "\r",
      "0% [3 InRelease 14.2 kB/114 kB 12%] [Connecting to security.ubuntu.com (185.125\r",
      "                                                                               \r",
      "0% [Waiting for headers] [Waiting for headers] [Waiting for headers]\r",
      "                                                                    \r",
      "Get:4 http://archive.ubuntu.com/ubuntu focal-backports InRelease [108 kB]\n",
      "\r",
      "0% [4 InRelease 11.3 kB/108 kB 10%] [Waiting for headers] [Waiting for headers]\r",
      "                                                                               \r",
      "0% [Waiting for headers] [Waiting for headers] [Waiting for headers]\r",
      "                                                                    \r",
      "Get:5 http://security.ubuntu.com/ubuntu focal-security InRelease [114 kB]\n",
      "\r",
      "0% [5 InRelease 14.2 kB/114 kB 12%] [Waiting for headers] [Waiting for headers]\r",
      "                                                                               \r",
      "Hit:6 http://ppa.launchpad.net/c2d4u.team/c2d4u4.0+/ubuntu focal InRelease\n",
      "\r",
      "0% [5 InRelease 14.2 kB/114 kB 12%] [Waiting for headers] [Connecting to ppa.la\r",
      "                                                                               \r",
      "Ign:7 https://developer.download.nvidia.com/compute/machine-learning/repos/ubuntu2004/x86_64  InRelease\n",
      "\r",
      "0% [5 InRelease 14.2 kB/114 kB 12%] [Waiting for headers] [Connecting to ppa.la\r",
      "0% [5 InRelease 14.2 kB/114 kB 12%] [Waiting for headers] [Connecting to ppa.la\r",
      "                                                                               \r",
      "Hit:8 https://developer.download.nvidia.com/compute/cuda/repos/ubuntu2004/x86_64  InRelease\n",
      "Hit:9 https://developer.download.nvidia.com/compute/machine-learning/repos/ubuntu2004/x86_64  Release\n",
      "Hit:10 http://ppa.launchpad.net/cran/libgit2/ubuntu focal InRelease\n",
      "Hit:11 http://ppa.launchpad.net/deadsnakes/ppa/ubuntu focal InRelease\n",
      "Hit:12 http://ppa.launchpad.net/graphics-drivers/ppa/ubuntu focal InRelease\n",
      "Fetched 336 kB in 1s (240 kB/s)\n",
      "Reading package lists... Done\n",
      "--2023-02-11 04:27:56--  https://jdbc.postgresql.org/download/postgresql-42.5.0.jar\n",
      "Resolving jdbc.postgresql.org (jdbc.postgresql.org)... 72.32.157.228, 2001:4800:3e1:1::228\n",
      "Connecting to jdbc.postgresql.org (jdbc.postgresql.org)|72.32.157.228|:443... connected.\n",
      "HTTP request sent, awaiting response... 200 OK\n",
      "Length: 1046274 (1022K) [application/java-archive]\n",
      "Saving to: ‘postgresql-42.5.0.jar.2’\n",
      "\n",
      "postgresql-42.5.0.j 100%[===================>]   1022K  5.70MB/s    in 0.2s    \n",
      "\n",
      "2023-02-11 04:27:56 (5.70 MB/s) - ‘postgresql-42.5.0.jar.2’ saved [1046274/1046274]\n",
      "\n"
     ]
    }
   ],
   "source": [
    "import os\n",
    "# Find the latest version of spark 3.0  from http://www.apache.org/dist/spark/ and enter as the spark version\n",
    "# For example:\n",
    "# spark_version = 'spark-3.0.3'\n",
    "spark_version = 'spark-3.3.1'\n",
    "os.environ['SPARK_VERSION'] = spark_version\n",
    "\n",
    "# Install Spark and Java\n",
    "!apt-get update\n",
    "!apt-get install openjdk-11-jdk-headless -qq > /dev/null\n",
    "!wget -q http://www.apache.org/dist/spark/$SPARK_VERSION/$SPARK_VERSION-bin-hadoop3.tgz\n",
    "!tar xf $SPARK_VERSION-bin-hadoop3.tgz\n",
    "!pip install -q findspark\n",
    "\n",
    "# Install Postgres Driver\n",
    "!wget https://jdbc.postgresql.org/download/postgresql-42.5.0.jar\n",
    "\n",
    "# Set Environment Variables\n",
    "os.environ[\"JAVA_HOME\"] = \"/usr/lib/jvm/java-11-openjdk-amd64\"\n",
    "os.environ[\"SPARK_HOME\"] = f\"/content/{spark_version}-bin-hadoop3\"\n",
    "\n",
    "# Start a SparkSession\n",
    "import findspark\n",
    "findspark.init()"
   ]
  },
  {
   "cell_type": "code",
   "execution_count": 26,
   "metadata": {
    "colab": {
     "base_uri": "https://localhost:8080/"
    },
    "id": "OWSY1c8jGlvK",
    "outputId": "3633eb06-bfeb-44c3-ef20-43fd4980a11d"
   },
   "outputs": [
    {
     "name": "stdout",
     "output_type": "stream",
     "text": [
      "--2023-02-11 04:27:56--  https://jdbc.postgresql.org/download/postgresql-42.5.0.jar\n",
      "Resolving jdbc.postgresql.org (jdbc.postgresql.org)... 72.32.157.228, 2001:4800:3e1:1::228\n",
      "Connecting to jdbc.postgresql.org (jdbc.postgresql.org)|72.32.157.228|:443... connected.\n",
      "HTTP request sent, awaiting response... 200 OK\n",
      "Length: 1046274 (1022K) [application/java-archive]\n",
      "Saving to: ‘postgresql-42.5.0.jar.3’\n",
      "\n",
      "postgresql-42.5.0.j 100%[===================>]   1022K  5.67MB/s    in 0.2s    \n",
      "\n",
      "2023-02-11 04:27:57 (5.67 MB/s) - ‘postgresql-42.5.0.jar.3’ saved [1046274/1046274]\n",
      "\n"
     ]
    }
   ],
   "source": [
    "# Download the Postgres driver that will allow Spark to interact with Postgres.\n",
    "!wget https://jdbc.postgresql.org/download/postgresql-42.5.0.jar"
   ]
  },
  {
   "cell_type": "code",
   "execution_count": 27,
   "metadata": {
    "id": "wsRT6B2J07rg"
   },
   "outputs": [],
   "source": [
    "# Start Spark session\n",
    "from pyspark.sql import SparkSession\n",
    "spark = SparkSession.builder.appName(\"M17-Amazon-Challenge\").config(\"spark.driver.extraClassPath\",\"/content/postgresql-42.5.0.jar\").getOrCreate()"
   ]
  },
  {
   "cell_type": "markdown",
   "metadata": {
    "id": "5xLOoXXAG-r-"
   },
   "source": [
    "Load Amazon Data into Spark DataFrame"
   ]
  },
  {
   "cell_type": "code",
   "execution_count": 28,
   "metadata": {
    "colab": {
     "base_uri": "https://localhost:8080/"
    },
    "id": "cM7KmIDyGpF_",
    "outputId": "339cd623-faf9-4a9f-b8c7-fe9e97c589f5"
   },
   "outputs": [
    {
     "name": "stdout",
     "output_type": "stream",
     "text": [
      "+-----------+-----------+--------------+----------+--------------+--------------------+----------------+-----------+-------------+-----------+----+-----------------+--------------------+--------------------+-------------------+\n",
      "|marketplace|customer_id|     review_id|product_id|product_parent|       product_title|product_category|star_rating|helpful_votes|total_votes|vine|verified_purchase|     review_headline|         review_body|        review_date|\n",
      "+-----------+-----------+--------------+----------+--------------+--------------------+----------------+-----------+-------------+-----------+----+-----------------+--------------------+--------------------+-------------------+\n",
      "|         US|   16414143|R3W4P9UBGNGH1U|B00YL0EKWE|     852431543|LG G4 Case Hard T...|        Wireless|          2|            1|          3|   N|                Y|Looks good, funct...|2 issues  -  Once...|2015-08-31 00:00:00|\n",
      "|         US|   50800750|R15V54KBMTQWAY|B00XK95RPQ|     516894650|Selfie Stick Fibl...|        Wireless|          4|            0|          0|   N|                N| A fun little gadget|I’m embarrassed t...|2015-08-31 00:00:00|\n",
      "|         US|   15184378| RY8I449HNXSVF|B00SXRXUKO|     984297154|Tribe AB40 Water ...|        Wireless|          5|            0|          0|   N|                Y|          Five Stars|  Fits iPhone 6 well|2015-08-31 00:00:00|\n",
      "|         US|   10203548|R18TLJYCKJFLSR|B009V5X1CE|     279912704|RAVPower® Element...|        Wireless|          5|            0|          0|   N|                Y|       Great charger|Great charger.  I...|2015-08-31 00:00:00|\n",
      "|         US|     488280|R1NK26SWS53B8Q|B00D93OVF0|     662791300|Fosmon Micro USB ...|        Wireless|          5|            0|          0|   N|                Y|          Five Stars|Great for the pri...|2015-08-31 00:00:00|\n",
      "+-----------+-----------+--------------+----------+--------------+--------------------+----------------+-----------+-------------+-----------+----+-----------------+--------------------+--------------------+-------------------+\n",
      "only showing top 5 rows\n",
      "\n"
     ]
    }
   ],
   "source": [
    "from pyspark import SparkFiles\n",
    "url = \"https://s3.amazonaws.com/amazon-reviews-pds/tsv/amazon_reviews_us_Wireless_v1_00.tsv.gz\"\n",
    "spark.sparkContext.addFile(url)\n",
    "df = spark.read.option(\"encoding\", \"UTF-8\").csv(SparkFiles.get(\"\"), sep=\"\\t\", header=True, inferSchema=True)\n",
    "\n",
    "# Show DataFrame\n",
    "df.show(5)"
   ]
  },
  {
   "cell_type": "markdown",
   "metadata": {
    "id": "u-RZRg7RG6_0"
   },
   "source": [
    "Create DataFrames"
   ]
  },
  {
   "cell_type": "code",
   "execution_count": 29,
   "metadata": {
    "colab": {
     "base_uri": "https://localhost:8080/"
    },
    "id": "dkmVAMmpGwZF",
    "outputId": "d0629e20-6bb4-419e-8064-6579484192ed"
   },
   "outputs": [
    {
     "name": "stdout",
     "output_type": "stream",
     "text": [
      "+--------------+-----------+----------+--------------+--------------------+-------------------+-----------+-------------+-----------+----+-----------------+\n",
      "|     review_id|customer_id|product_id|product_parent|       product_title|        review_date|star_rating|helpful_votes|total_votes|vine|verified_purchase|\n",
      "+--------------+-----------+----------+--------------+--------------------+-------------------+-----------+-------------+-----------+----+-----------------+\n",
      "|R3W4P9UBGNGH1U|   16414143|B00YL0EKWE|     852431543|LG G4 Case Hard T...|2015-08-31 00:00:00|          2|            1|          3|   N|                Y|\n",
      "|R15V54KBMTQWAY|   50800750|B00XK95RPQ|     516894650|Selfie Stick Fibl...|2015-08-31 00:00:00|          4|            0|          0|   N|                N|\n",
      "| RY8I449HNXSVF|   15184378|B00SXRXUKO|     984297154|Tribe AB40 Water ...|2015-08-31 00:00:00|          5|            0|          0|   N|                Y|\n",
      "|R18TLJYCKJFLSR|   10203548|B009V5X1CE|     279912704|RAVPower® Element...|2015-08-31 00:00:00|          5|            0|          0|   N|                Y|\n",
      "|R1NK26SWS53B8Q|     488280|B00D93OVF0|     662791300|Fosmon Micro USB ...|2015-08-31 00:00:00|          5|            0|          0|   N|                Y|\n",
      "+--------------+-----------+----------+--------------+--------------------+-------------------+-----------+-------------+-----------+----+-----------------+\n",
      "only showing top 5 rows\n",
      "\n"
     ]
    }
   ],
   "source": [
    "from pyspark.sql.functions import to_date\n",
    "# Read in the Review dataset as a DataFrame\n",
    "amazonReview_df = df.select([\"review_id\",\"customer_id\",\"product_id\",\"product_parent\",\"product_title\",\"review_date\",\"star_rating\", \"helpful_votes\",\"total_votes\",\"vine\",\"verified_purchase\"])\n",
    "amazonReview_df.show(5)"
   ]
  },
  {
   "cell_type": "code",
   "execution_count": 30,
   "metadata": {
    "colab": {
     "base_uri": "https://localhost:8080/"
    },
    "id": "mDi3XbLgHEI_",
    "outputId": "4040062f-d197-4b32-8a44-ec971b2c602c"
   },
   "outputs": [
    {
     "name": "stdout",
     "output_type": "stream",
     "text": [
      "+--------------+-----------+-------------+-----------+----+-----------------+\n",
      "|     review_id|star_rating|helpful_votes|total_votes|vine|verified_purchase|\n",
      "+--------------+-----------+-------------+-----------+----+-----------------+\n",
      "|R3W4P9UBGNGH1U|          2|            1|          3|   N|                Y|\n",
      "|R15V54KBMTQWAY|          4|            0|          0|   N|                N|\n",
      "| RY8I449HNXSVF|          5|            0|          0|   N|                Y|\n",
      "|R18TLJYCKJFLSR|          5|            0|          0|   N|                Y|\n",
      "|R1NK26SWS53B8Q|          5|            0|          0|   N|                Y|\n",
      "|R11LOHEDYJALTN|          5|            0|          0|   N|                Y|\n",
      "|R3ALQVQB2P9LA7|          4|            0|          0|   N|                Y|\n",
      "|R3MWLXLNO21PDQ|          5|            0|          0|   N|                Y|\n",
      "|R2L15IS24CX0LI|          5|            0|          0|   N|                Y|\n",
      "|R1DJ8976WPWVZU|          3|            0|          0|   N|                Y|\n",
      "|R3MRWNNR8CBTB7|          5|            0|          0|   N|                Y|\n",
      "|R1DS6DKTUXAQK3|          5|            0|          0|   N|                Y|\n",
      "| RWJM5E0TWUJD2|          5|            0|          0|   N|                Y|\n",
      "|R1XTJKDYNCRGAC|          1|            0|          0|   N|                Y|\n",
      "|R2UZL3DPWEU1XW|          5|            0|          0|   N|                Y|\n",
      "|R2EZXET9KBFFU3|          1|            0|          0|   N|                Y|\n",
      "|R26VY1L1FD3LPU|          5|            0|          0|   N|                Y|\n",
      "|R2SSA4NSFCV18T|          5|            0|          0|   N|                N|\n",
      "|R1G6333JHJNEUQ|          5|            0|          0|   N|                Y|\n",
      "|R2DRG0UZXJQ0PE|          5|            0|          0|   N|                Y|\n",
      "+--------------+-----------+-------------+-----------+----+-----------------+\n",
      "only showing top 20 rows\n",
      "\n"
     ]
    }
   ],
   "source": [
    "# Create the vine_table. DataFrame\n",
    "vine_df = amazonReview_df.select([\"review_id\",\"star_rating\", \"helpful_votes\",\"total_votes\",\"vine\",\"verified_purchase\"])\n",
    "vine_df.show(20)"
   ]
  },
  {
   "cell_type": "code",
   "execution_count": 31,
   "metadata": {
    "colab": {
     "base_uri": "https://localhost:8080/"
    },
    "id": "jyTeiGcyHLRn",
    "outputId": "d7478ae0-d194-4ee0-94ad-7f3b72da1d28"
   },
   "outputs": [
    {
     "name": "stdout",
     "output_type": "stream",
     "text": [
      "+--------------+-----------+-------------+-----------+----+-----------------+\n",
      "|     review_id|star_rating|helpful_votes|total_votes|vine|verified_purchase|\n",
      "+--------------+-----------+-------------+-----------+----+-----------------+\n",
      "|R2WOW0TURNXB26|          3|           54|         59|   N|                Y|\n",
      "|R13VL62Y2HBQ0B|          5|           15|         21|   N|                Y|\n",
      "|R22G55KAPZKJQV|          4|           20|         21|   N|                Y|\n",
      "|R1610PGTJS7G3N|          2|           28|         44|   N|                Y|\n",
      "| RLQL04BL0QXOJ|          4|           45|         47|   N|                Y|\n",
      "|R2AYJHH8WJNGAU|          4|           98|        104|   N|                Y|\n",
      "|R111DJA10Y6CMU|          5|           26|         39|   N|                Y|\n",
      "|R2EE2TR4MRDV0U|          5|           53|         59|   N|                Y|\n",
      "| RD4A80I5JDHED|          5|           69|         77|   N|                N|\n",
      "|R1GU6IYZQWQE8X|          2|           24|         25|   N|                Y|\n",
      "| RZOPM62JMW97V|          2|          103|        108|   N|                Y|\n",
      "|R21GLR3TD27ISV|          3|            4|         22|   N|                Y|\n",
      "|R1D3NR5GREEXXJ|          5|           57|         58|   N|                Y|\n",
      "|R24BMEHX5EWGEY|          2|           26|         30|   N|                Y|\n",
      "|R2WYKBQS8OR08O|          5|          168|        176|   N|                Y|\n",
      "|R3DL0Y1KWYLD5X|          5|           36|         37|   N|                Y|\n",
      "|R3EGDTFDMCOOG4|          5|           74|         90|   N|                N|\n",
      "|R1MC93W6WG9R3O|          1|           22|         22|   N|                Y|\n",
      "|R35B0B69DYR54L|          1|           18|         22|   N|                Y|\n",
      "|R1593EM56412NH|          4|           33|         37|   N|                Y|\n",
      "+--------------+-----------+-------------+-----------+----+-----------------+\n",
      "only showing top 20 rows\n",
      "\n"
     ]
    }
   ],
   "source": [
    "# create a new DataFrame where the total_votes count is equal to or greater than 20\n",
    "vine_vote_df = vine_df.filter(\"total_votes >= 20\")\n",
    "vine_vote_df.show()\n"
   ]
  },
  {
   "cell_type": "code",
   "execution_count": 32,
   "metadata": {
    "colab": {
     "base_uri": "https://localhost:8080/"
    },
    "id": "2Z-2mEdgKHVW",
    "outputId": "f7aad15b-3199-4fb0-ca85-5e55fbea4f36"
   },
   "outputs": [
    {
     "name": "stdout",
     "output_type": "stream",
     "text": [
      "+--------------+-----------+-------------+-----------+----+-----------------+------------------+\n",
      "|     review_id|star_rating|helpful_votes|total_votes|vine|verified_purchase|   helpful_votes_%|\n",
      "+--------------+-----------+-------------+-----------+----+-----------------+------------------+\n",
      "|R2WOW0TURNXB26|          3|           54|         59|   N|                Y|0.9152542372881356|\n",
      "|R13VL62Y2HBQ0B|          5|           15|         21|   N|                Y|0.7142857142857143|\n",
      "|R22G55KAPZKJQV|          4|           20|         21|   N|                Y|0.9523809523809523|\n",
      "|R1610PGTJS7G3N|          2|           28|         44|   N|                Y|0.6363636363636364|\n",
      "| RLQL04BL0QXOJ|          4|           45|         47|   N|                Y|0.9574468085106383|\n",
      "|R2AYJHH8WJNGAU|          4|           98|        104|   N|                Y|0.9423076923076923|\n",
      "|R111DJA10Y6CMU|          5|           26|         39|   N|                Y|0.6666666666666666|\n",
      "|R2EE2TR4MRDV0U|          5|           53|         59|   N|                Y|0.8983050847457628|\n",
      "| RD4A80I5JDHED|          5|           69|         77|   N|                N|0.8961038961038961|\n",
      "|R1GU6IYZQWQE8X|          2|           24|         25|   N|                Y|              0.96|\n",
      "| RZOPM62JMW97V|          2|          103|        108|   N|                Y|0.9537037037037037|\n",
      "|R1D3NR5GREEXXJ|          5|           57|         58|   N|                Y|0.9827586206896551|\n",
      "|R24BMEHX5EWGEY|          2|           26|         30|   N|                Y|0.8666666666666667|\n",
      "|R2WYKBQS8OR08O|          5|          168|        176|   N|                Y|0.9545454545454546|\n",
      "|R3DL0Y1KWYLD5X|          5|           36|         37|   N|                Y| 0.972972972972973|\n",
      "|R3EGDTFDMCOOG4|          5|           74|         90|   N|                N|0.8222222222222222|\n",
      "|R1MC93W6WG9R3O|          1|           22|         22|   N|                Y|               1.0|\n",
      "|R35B0B69DYR54L|          1|           18|         22|   N|                Y|0.8181818181818182|\n",
      "|R1593EM56412NH|          4|           33|         37|   N|                Y|0.8918918918918919|\n",
      "|R1KEP1DUJK2LD5|          5|           34|         42|   N|                Y|0.8095238095238095|\n",
      "+--------------+-----------+-------------+-----------+----+-----------------+------------------+\n",
      "only showing top 20 rows\n",
      "\n"
     ]
    }
   ],
   "source": [
    "# create a new DataFrame or table to retrieve all the rows \n",
    "# where the number of helpful_votes divided by total_votes is equal to or greater than 50%.\n",
    "\n",
    "helpfulVotes_df = vine_vote_df.withColumn('helpful_votes_%',vine_vote_df['helpful_votes']/vine_vote_df['total_votes'])\n",
    "votePercent_df = helpfulVotes_df.filter(helpfulVotes_df[\"helpful_votes_%\"]  >=.5).show()\n",
    "\n",
    "#helpful_votes_df = vine_vote_df.filter((vine_vote_df[\"helpful_votes\"] / vine_vote_df[\"total_votes\"]) >= .5)\n",
    "#helpful_votes_df.show()"
   ]
  },
  {
   "cell_type": "code",
   "execution_count": 33,
   "metadata": {
    "colab": {
     "base_uri": "https://localhost:8080/"
    },
    "id": "LiGoP4GfOSG4",
    "outputId": "c12c34db-c34b-4cf3-8392-20c6bfe24433"
   },
   "outputs": [
    {
     "name": "stdout",
     "output_type": "stream",
     "text": [
      "+--------------+-----------+-------------+-----------+----+-----------------+\n",
      "|     review_id|star_rating|helpful_votes|total_votes|vine|verified_purchase|\n",
      "+--------------+-----------+-------------+-----------+----+-----------------+\n",
      "|R1MAOLI5FJHAFM|          4|          249|        261|   Y|                N|\n",
      "| R9PYAUDIBJVEC|          4|           12|         22|   Y|                N|\n",
      "|R2DOTPESCGMW6A|          4|            5|         24|   Y|                N|\n",
      "| R6V9SHMMG5M8F|          5|          101|        110|   Y|                N|\n",
      "|R37PVLT6ELL5J4|          4|          181|        209|   Y|                N|\n",
      "|R1IG7IRDCIKJBN|          5|            9|         48|   Y|                N|\n",
      "| R2FSFGWZF24V9|          4|           50|         51|   Y|                N|\n",
      "|R3SRW1E8J56IGV|          5|          262|        281|   Y|                N|\n",
      "| R86Z11D4CWOFM|          4|           32|         36|   Y|                N|\n",
      "| RNP01HW9YISJO|          4|           20|         23|   Y|                N|\n",
      "|R3KLACA6LCDZ0S|          3|           21|         22|   Y|                N|\n",
      "| RZEQYOT2RE0N7|          4|           75|         80|   Y|                N|\n",
      "|R2WBPX441TH495|          5|          202|        221|   Y|                N|\n",
      "|R2BYBSYHS66ZN8|          5|          109|        114|   Y|                N|\n",
      "|R3IF59PJGCNU3Q|          4|           42|         54|   Y|                N|\n",
      "|R2IXC6U7W4OCQ9|          5|          185|        201|   Y|                N|\n",
      "|R1JEI3H9QRP6PH|          5|           15|         22|   Y|                N|\n",
      "|R37L3KGRRR6JTL|          3|           38|         47|   Y|                N|\n",
      "|R1YJ7OKAEML92P|          5|           20|         22|   Y|                N|\n",
      "|R3JZJOD2512UVY|          4|           85|        101|   Y|                N|\n",
      "+--------------+-----------+-------------+-----------+----+-----------------+\n",
      "only showing top 20 rows\n",
      "\n"
     ]
    }
   ],
   "source": [
    "# create a new DataFrame or table that retrieves all the rows \n",
    "# where a review was written as part of the Vine program (paid), vine == 'Y'\n",
    "\n",
    "paid_vine_df = vine_vote_df.filter(vine_vote_df[\"vine\"]==\"Y\")\n",
    "paid_vine_df.show()"
   ]
  },
  {
   "cell_type": "code",
   "execution_count": 34,
   "metadata": {
    "colab": {
     "base_uri": "https://localhost:8080/"
    },
    "id": "OzJiezN0V1nP",
    "outputId": "7cafbb11-c474-452c-87ff-9c43a2ab9583"
   },
   "outputs": [
    {
     "name": "stdout",
     "output_type": "stream",
     "text": [
      "+--------------+-----------+-------------+-----------+----+-----------------+\n",
      "|     review_id|star_rating|helpful_votes|total_votes|vine|verified_purchase|\n",
      "+--------------+-----------+-------------+-----------+----+-----------------+\n",
      "|R2WOW0TURNXB26|          3|           54|         59|   N|                Y|\n",
      "|R13VL62Y2HBQ0B|          5|           15|         21|   N|                Y|\n",
      "|R22G55KAPZKJQV|          4|           20|         21|   N|                Y|\n",
      "|R1610PGTJS7G3N|          2|           28|         44|   N|                Y|\n",
      "| RLQL04BL0QXOJ|          4|           45|         47|   N|                Y|\n",
      "|R2AYJHH8WJNGAU|          4|           98|        104|   N|                Y|\n",
      "|R111DJA10Y6CMU|          5|           26|         39|   N|                Y|\n",
      "|R2EE2TR4MRDV0U|          5|           53|         59|   N|                Y|\n",
      "| RD4A80I5JDHED|          5|           69|         77|   N|                N|\n",
      "|R1GU6IYZQWQE8X|          2|           24|         25|   N|                Y|\n",
      "| RZOPM62JMW97V|          2|          103|        108|   N|                Y|\n",
      "|R21GLR3TD27ISV|          3|            4|         22|   N|                Y|\n",
      "|R1D3NR5GREEXXJ|          5|           57|         58|   N|                Y|\n",
      "|R24BMEHX5EWGEY|          2|           26|         30|   N|                Y|\n",
      "|R2WYKBQS8OR08O|          5|          168|        176|   N|                Y|\n",
      "|R3DL0Y1KWYLD5X|          5|           36|         37|   N|                Y|\n",
      "|R3EGDTFDMCOOG4|          5|           74|         90|   N|                N|\n",
      "|R1MC93W6WG9R3O|          1|           22|         22|   N|                Y|\n",
      "|R35B0B69DYR54L|          1|           18|         22|   N|                Y|\n",
      "|R1593EM56412NH|          4|           33|         37|   N|                Y|\n",
      "+--------------+-----------+-------------+-----------+----+-----------------+\n",
      "only showing top 20 rows\n",
      "\n"
     ]
    }
   ],
   "source": [
    "# create a new DataFrame or table that retrieves all the rows \n",
    "# where a review was written as part of the Vine program (paid), vine == 'N'\n",
    "\n",
    "unpaid_vine_df = vine_vote_df.filter(vine_vote_df[\"vine\"]==\"N\")\n",
    "unpaid_vine_df.show()"
   ]
  },
  {
   "cell_type": "code",
   "execution_count": 35,
   "metadata": {
    "colab": {
     "base_uri": "https://localhost:8080/"
    },
    "id": "Fd7PjQVd7zOk",
    "outputId": "a5e85ef3-82e2-4dd8-bf71-16457cd4e873"
   },
   "outputs": [
    {
     "data": {
      "text/plain": [
       "618"
      ]
     },
     "execution_count": 35,
     "metadata": {},
     "output_type": "execute_result"
    }
   ],
   "source": [
    "# total number of reviews (paid vs unpaid)\n",
    "\n",
    "paid_review_df = paid_vine_df.count()\n",
    "paid_review_df "
   ]
  },
  {
   "cell_type": "code",
   "execution_count": 36,
   "metadata": {
    "colab": {
     "base_uri": "https://localhost:8080/"
    },
    "id": "QxHF74zI-t5L",
    "outputId": "9bd752e6-18a8-4d00-ce24-a516a095ecf9"
   },
   "outputs": [
    {
     "data": {
      "text/plain": [
       "71969"
      ]
     },
     "execution_count": 36,
     "metadata": {},
     "output_type": "execute_result"
    }
   ],
   "source": [
    "unpaid_vine_df = unpaid_vine_df.count()\n",
    "unpaid_vine_df "
   ]
  },
  {
   "cell_type": "code",
   "execution_count": 37,
   "metadata": {
    "colab": {
     "base_uri": "https://localhost:8080/"
    },
    "id": "R-HRcSPf-o0q",
    "outputId": "d9c6de70-c39d-453a-faf4-245ee7ae1f72"
   },
   "outputs": [
    {
     "data": {
      "text/plain": [
       "223"
      ]
     },
     "execution_count": 37,
     "metadata": {},
     "output_type": "execute_result"
    }
   ],
   "source": [
    "# number of 5-star reviews (paid vs unpaid)\n",
    "paid_fiveStar_df = paid_vine_df.filter(paid_vine_df[\"star_rating\"]==5).count()\n",
    "paid_fiveStar_df"
   ]
  },
  {
   "cell_type": "code",
   "execution_count": 38,
   "metadata": {
    "colab": {
     "base_uri": "https://localhost:8080/"
    },
    "id": "3edvm_SVLCzU",
    "outputId": "d30745f3-bdf1-4b2f-d090-45b89d2a3932"
   },
   "outputs": [
    {
     "data": {
      "text/plain": [
       "31390"
      ]
     },
     "execution_count": 38,
     "metadata": {},
     "output_type": "execute_result"
    }
   ],
   "source": [
    "#unpaid_fiveStar_df = unpaid_vine_df.filter(unpaid_vine_df[\"star_rating\"]== 5).count()\n",
    "#unpaid_fiveStar_df\n",
    "\n",
    "unpaid_fiveStar_df = vine_vote_df.filter((vine_vote_df[\"vine\"]==\"N\") & (vine_vote_df[\"star_rating\"]== 5))\n",
    "unpaid_fiveStar_df.count()"
   ]
  },
  {
   "cell_type": "code",
   "execution_count": 45,
   "metadata": {
    "colab": {
     "base_uri": "https://localhost:8080/"
    },
    "id": "WZGibl6nAoVK",
    "outputId": "0aa70dd5-fd13-4b74-8b34-a10c5fbeaf6b"
   },
   "outputs": [
    {
     "data": {
      "text/plain": [
       "36.084142394822"
      ]
     },
     "execution_count": 45,
     "metadata": {},
     "output_type": "execute_result"
    }
   ],
   "source": [
    "#1 the percentage of 5-star reviews for the two types of review (paid vs unpaid).\n",
    "paid_fiveStar_percent_df = (paid_fiveStar_df/paid_review_df )*100\n",
    "paid_fiveStar_percent_df"
   ]
  },
  {
   "cell_type": "code",
   "execution_count": 46,
   "metadata": {
    "id": "yBoqI9fjMqxS"
   },
   "outputs": [],
   "source": [
    "#2 the percentage of 5-star reviews for the two types of review (paid vs unpaid).\n",
    "unpaid_fiveStar_percent_df = (unpaid_fiveStar_df/unpaid_vine_df )*100\n",
    "unpaid_fiveStar_percent_df"
   ]
  },
  {
   "cell_type": "code",
   "execution_count": 55,
   "metadata": {
    "id": "ql77L5q-qFYA"
   },
   "outputs": [],
   "source": [
    "# Helpful vote counts (paid vs unpaid)\n",
    "paid_helpful_df = votePercent_df.filter((votePercent_df[\"vine\"]==\"Y\") & (votePercent_df[\"helpful_votes_%\"]  >= .5)).count()\n",
    "paid_helpful_df.count()\n"
   ]
  },
  {
   "cell_type": "code",
   "execution_count": null,
   "metadata": {
    "id": "msX24gguxH5_"
   },
   "outputs": [],
   "source": [
    "unpaid_helpful_df = votePercent_df.filter((votePercent_df[\"vine\"]==\"N\") & (votePercent_df[\"helpful_votes_%\"]  >= .5)).count()\n",
    "unpaid_helpful_df.count()"
   ]
  }
 ],
 "metadata": {
  "colab": {
   "provenance": []
  },
  "kernelspec": {
   "display_name": "Python 3 (ipykernel)",
   "language": "python",
   "name": "python3"
  },
  "language_info": {
   "codemirror_mode": {
    "name": "ipython",
    "version": 3
   },
   "file_extension": ".py",
   "mimetype": "text/x-python",
   "name": "python",
   "nbconvert_exporter": "python",
   "pygments_lexer": "ipython3",
   "version": "3.10.12"
  }
 },
 "nbformat": 4,
 "nbformat_minor": 4
}
